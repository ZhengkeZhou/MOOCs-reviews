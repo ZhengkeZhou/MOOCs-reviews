{
 "cells": [
  {
   "cell_type": "code",
   "execution_count": 46,
   "id": "fac1d6a2",
   "metadata": {},
   "outputs": [
    {
     "data": {
      "text/html": [
       "<div>\n",
       "<style scoped>\n",
       "    .dataframe tbody tr th:only-of-type {\n",
       "        vertical-align: middle;\n",
       "    }\n",
       "\n",
       "    .dataframe tbody tr th {\n",
       "        vertical-align: top;\n",
       "    }\n",
       "\n",
       "    .dataframe thead th {\n",
       "        text-align: right;\n",
       "    }\n",
       "</style>\n",
       "<table border=\"1\" class=\"dataframe\">\n",
       "  <thead>\n",
       "    <tr style=\"text-align: right;\">\n",
       "      <th></th>\n",
       "      <th>reviews</th>\n",
       "      <th>ratings</th>\n",
       "      <th>votes</th>\n",
       "      <th>class</th>\n",
       "      <th>classnum</th>\n",
       "    </tr>\n",
       "  </thead>\n",
       "  <tbody>\n",
       "    <tr>\n",
       "      <th>0</th>\n",
       "      <td>Too many introductory lessons that aren't usef...</td>\n",
       "      <td>1</td>\n",
       "      <td>185</td>\n",
       "      <td>bad</td>\n",
       "      <td>-1</td>\n",
       "    </tr>\n",
       "    <tr>\n",
       "      <th>1</th>\n",
       "      <td>This was extremely basic and not much help. I ...</td>\n",
       "      <td>1</td>\n",
       "      <td>67</td>\n",
       "      <td>bad</td>\n",
       "      <td>-1</td>\n",
       "    </tr>\n",
       "    <tr>\n",
       "      <th>2</th>\n",
       "      <td>I liked the videos a lot, I just didn't get th...</td>\n",
       "      <td>4</td>\n",
       "      <td>50</td>\n",
       "      <td>neutral</td>\n",
       "      <td>0</td>\n",
       "    </tr>\n",
       "  </tbody>\n",
       "</table>\n",
       "</div>"
      ],
      "text/plain": [
       "                                             reviews  ratings  votes    class  \\\n",
       "0  Too many introductory lessons that aren't usef...        1    185      bad   \n",
       "1  This was extremely basic and not much help. I ...        1     67      bad   \n",
       "2  I liked the videos a lot, I just didn't get th...        4     50  neutral   \n",
       "\n",
       "   classnum  \n",
       "0        -1  \n",
       "1        -1  \n",
       "2         0  "
      ]
     },
     "execution_count": 46,
     "metadata": {},
     "output_type": "execute_result"
    }
   ],
   "source": [
    "import pandas as pd\n",
    "import numpy as np\n",
    "\n",
    "df = pd.read_csv(\"E:/UVA\\Thesis/cousera data/merge data.csv\", encoding = \"utf-8\")\n",
    "df.head(3)"
   ]
  },
  {
   "cell_type": "code",
   "execution_count": 47,
   "id": "49005e9f",
   "metadata": {},
   "outputs": [
    {
     "data": {
      "text/plain": [
       "(14204, 5)"
      ]
     },
     "execution_count": 47,
     "metadata": {},
     "output_type": "execute_result"
    }
   ],
   "source": [
    "df.shape"
   ]
  },
  {
   "cell_type": "code",
   "execution_count": 48,
   "id": "c256a8dd",
   "metadata": {},
   "outputs": [
    {
     "data": {
      "text/html": [
       "<div>\n",
       "<style scoped>\n",
       "    .dataframe tbody tr th:only-of-type {\n",
       "        vertical-align: middle;\n",
       "    }\n",
       "\n",
       "    .dataframe tbody tr th {\n",
       "        vertical-align: top;\n",
       "    }\n",
       "\n",
       "    .dataframe thead th {\n",
       "        text-align: right;\n",
       "    }\n",
       "</style>\n",
       "<table border=\"1\" class=\"dataframe\">\n",
       "  <thead>\n",
       "    <tr style=\"text-align: right;\">\n",
       "      <th></th>\n",
       "      <th>reviews</th>\n",
       "      <th>ratings</th>\n",
       "      <th>votes</th>\n",
       "      <th>class</th>\n",
       "      <th>classnum</th>\n",
       "    </tr>\n",
       "  </thead>\n",
       "  <tbody>\n",
       "    <tr>\n",
       "      <th>7553</th>\n",
       "      <td>./</td>\n",
       "      <td>4</td>\n",
       "      <td>0</td>\n",
       "      <td>neutral</td>\n",
       "      <td>0</td>\n",
       "    </tr>\n",
       "    <tr>\n",
       "      <th>7554</th>\n",
       "      <td>.</td>\n",
       "      <td>4</td>\n",
       "      <td>0</td>\n",
       "      <td>neutral</td>\n",
       "      <td>0</td>\n",
       "    </tr>\n",
       "    <tr>\n",
       "      <th>7555</th>\n",
       "      <td>E</td>\n",
       "      <td>4</td>\n",
       "      <td>0</td>\n",
       "      <td>neutral</td>\n",
       "      <td>0</td>\n",
       "    </tr>\n",
       "    <tr>\n",
       "      <th>7556</th>\n",
       "      <td>t</td>\n",
       "      <td>4</td>\n",
       "      <td>0</td>\n",
       "      <td>neutral</td>\n",
       "      <td>0</td>\n",
       "    </tr>\n",
       "    <tr>\n",
       "      <th>7557</th>\n",
       "      <td>&lt;U+200B&gt;</td>\n",
       "      <td>4</td>\n",
       "      <td>0</td>\n",
       "      <td>neutral</td>\n",
       "      <td>0</td>\n",
       "    </tr>\n",
       "    <tr>\n",
       "      <th>7558</th>\n",
       "      <td>A</td>\n",
       "      <td>4</td>\n",
       "      <td>0</td>\n",
       "      <td>neutral</td>\n",
       "      <td>0</td>\n",
       "    </tr>\n",
       "    <tr>\n",
       "      <th>7559</th>\n",
       "      <td>&lt;U+200B&gt;</td>\n",
       "      <td>4</td>\n",
       "      <td>0</td>\n",
       "      <td>neutral</td>\n",
       "      <td>0</td>\n",
       "    </tr>\n",
       "    <tr>\n",
       "      <th>7560</th>\n",
       "      <td>&lt;U+200B&gt;</td>\n",
       "      <td>4</td>\n",
       "      <td>0</td>\n",
       "      <td>neutral</td>\n",
       "      <td>0</td>\n",
       "    </tr>\n",
       "    <tr>\n",
       "      <th>7561</th>\n",
       "      <td>4</td>\n",
       "      <td>4</td>\n",
       "      <td>0</td>\n",
       "      <td>neutral</td>\n",
       "      <td>0</td>\n",
       "    </tr>\n",
       "    <tr>\n",
       "      <th>7562</th>\n",
       "      <td>&lt;U+200B&gt;</td>\n",
       "      <td>4</td>\n",
       "      <td>0</td>\n",
       "      <td>neutral</td>\n",
       "      <td>0</td>\n",
       "    </tr>\n",
       "    <tr>\n",
       "      <th>7563</th>\n",
       "      <td>&lt;U+200B&gt;</td>\n",
       "      <td>4</td>\n",
       "      <td>0</td>\n",
       "      <td>neutral</td>\n",
       "      <td>0</td>\n",
       "    </tr>\n",
       "    <tr>\n",
       "      <th>7564</th>\n",
       "      <td>j</td>\n",
       "      <td>4</td>\n",
       "      <td>0</td>\n",
       "      <td>neutral</td>\n",
       "      <td>0</td>\n",
       "    </tr>\n",
       "  </tbody>\n",
       "</table>\n",
       "</div>"
      ],
      "text/plain": [
       "       reviews  ratings  votes    class  classnum\n",
       "7553        ./        4      0  neutral         0\n",
       "7554         .        4      0  neutral         0\n",
       "7555         E        4      0  neutral         0\n",
       "7556         t        4      0  neutral         0\n",
       "7557  <U+200B>        4      0  neutral         0\n",
       "7558         A        4      0  neutral         0\n",
       "7559  <U+200B>        4      0  neutral         0\n",
       "7560  <U+200B>        4      0  neutral         0\n",
       "7561         4        4      0  neutral         0\n",
       "7562  <U+200B>        4      0  neutral         0\n",
       "7563  <U+200B>        4      0  neutral         0\n",
       "7564         j        4      0  neutral         0"
      ]
     },
     "execution_count": 48,
     "metadata": {},
     "output_type": "execute_result"
    }
   ],
   "source": [
    "df[7553:7565]"
   ]
  },
  {
   "cell_type": "code",
   "execution_count": 49,
   "id": "eeab9d15",
   "metadata": {},
   "outputs": [],
   "source": [
    "import re\n",
    "def preprocessor(text):\n",
    "    text = re.sub('<[^>]*>', '', str(text))\n",
    "    emoticons = re.findall('(?::|;|=)(?:-)?(?:\\)|\\(|D|P)',\n",
    "                           text)\n",
    "    text = (re.sub('[\\W]+', ' ', text.lower()) +\n",
    "            ' '.join(emoticons).replace('-', ''))\n",
    "    return text"
   ]
  },
  {
   "cell_type": "code",
   "execution_count": 50,
   "id": "0db980a7",
   "metadata": {},
   "outputs": [],
   "source": [
    "df['reviews'] = df['reviews'].apply(preprocessor)"
   ]
  },
  {
   "cell_type": "code",
   "execution_count": 51,
   "id": "99812ff0",
   "metadata": {},
   "outputs": [
    {
     "data": {
      "text/html": [
       "<div>\n",
       "<style scoped>\n",
       "    .dataframe tbody tr th:only-of-type {\n",
       "        vertical-align: middle;\n",
       "    }\n",
       "\n",
       "    .dataframe tbody tr th {\n",
       "        vertical-align: top;\n",
       "    }\n",
       "\n",
       "    .dataframe thead th {\n",
       "        text-align: right;\n",
       "    }\n",
       "</style>\n",
       "<table border=\"1\" class=\"dataframe\">\n",
       "  <thead>\n",
       "    <tr style=\"text-align: right;\">\n",
       "      <th></th>\n",
       "      <th>reviews</th>\n",
       "      <th>ratings</th>\n",
       "      <th>votes</th>\n",
       "      <th>class</th>\n",
       "      <th>classnum</th>\n",
       "    </tr>\n",
       "  </thead>\n",
       "  <tbody>\n",
       "    <tr>\n",
       "      <th>7553</th>\n",
       "      <td></td>\n",
       "      <td>4</td>\n",
       "      <td>0</td>\n",
       "      <td>neutral</td>\n",
       "      <td>0</td>\n",
       "    </tr>\n",
       "    <tr>\n",
       "      <th>7554</th>\n",
       "      <td></td>\n",
       "      <td>4</td>\n",
       "      <td>0</td>\n",
       "      <td>neutral</td>\n",
       "      <td>0</td>\n",
       "    </tr>\n",
       "    <tr>\n",
       "      <th>7555</th>\n",
       "      <td>e</td>\n",
       "      <td>4</td>\n",
       "      <td>0</td>\n",
       "      <td>neutral</td>\n",
       "      <td>0</td>\n",
       "    </tr>\n",
       "    <tr>\n",
       "      <th>7556</th>\n",
       "      <td>t</td>\n",
       "      <td>4</td>\n",
       "      <td>0</td>\n",
       "      <td>neutral</td>\n",
       "      <td>0</td>\n",
       "    </tr>\n",
       "    <tr>\n",
       "      <th>7557</th>\n",
       "      <td></td>\n",
       "      <td>4</td>\n",
       "      <td>0</td>\n",
       "      <td>neutral</td>\n",
       "      <td>0</td>\n",
       "    </tr>\n",
       "    <tr>\n",
       "      <th>7558</th>\n",
       "      <td>a</td>\n",
       "      <td>4</td>\n",
       "      <td>0</td>\n",
       "      <td>neutral</td>\n",
       "      <td>0</td>\n",
       "    </tr>\n",
       "    <tr>\n",
       "      <th>7559</th>\n",
       "      <td></td>\n",
       "      <td>4</td>\n",
       "      <td>0</td>\n",
       "      <td>neutral</td>\n",
       "      <td>0</td>\n",
       "    </tr>\n",
       "    <tr>\n",
       "      <th>7560</th>\n",
       "      <td></td>\n",
       "      <td>4</td>\n",
       "      <td>0</td>\n",
       "      <td>neutral</td>\n",
       "      <td>0</td>\n",
       "    </tr>\n",
       "    <tr>\n",
       "      <th>7561</th>\n",
       "      <td>4</td>\n",
       "      <td>4</td>\n",
       "      <td>0</td>\n",
       "      <td>neutral</td>\n",
       "      <td>0</td>\n",
       "    </tr>\n",
       "    <tr>\n",
       "      <th>7562</th>\n",
       "      <td></td>\n",
       "      <td>4</td>\n",
       "      <td>0</td>\n",
       "      <td>neutral</td>\n",
       "      <td>0</td>\n",
       "    </tr>\n",
       "    <tr>\n",
       "      <th>7563</th>\n",
       "      <td></td>\n",
       "      <td>4</td>\n",
       "      <td>0</td>\n",
       "      <td>neutral</td>\n",
       "      <td>0</td>\n",
       "    </tr>\n",
       "    <tr>\n",
       "      <th>7564</th>\n",
       "      <td>j</td>\n",
       "      <td>4</td>\n",
       "      <td>0</td>\n",
       "      <td>neutral</td>\n",
       "      <td>0</td>\n",
       "    </tr>\n",
       "  </tbody>\n",
       "</table>\n",
       "</div>"
      ],
      "text/plain": [
       "     reviews  ratings  votes    class  classnum\n",
       "7553                4      0  neutral         0\n",
       "7554                4      0  neutral         0\n",
       "7555       e        4      0  neutral         0\n",
       "7556       t        4      0  neutral         0\n",
       "7557                4      0  neutral         0\n",
       "7558       a        4      0  neutral         0\n",
       "7559                4      0  neutral         0\n",
       "7560                4      0  neutral         0\n",
       "7561       4        4      0  neutral         0\n",
       "7562                4      0  neutral         0\n",
       "7563                4      0  neutral         0\n",
       "7564       j        4      0  neutral         0"
      ]
     },
     "execution_count": 51,
     "metadata": {},
     "output_type": "execute_result"
    }
   ],
   "source": [
    "df[7553:7565]"
   ]
  },
  {
   "cell_type": "code",
   "execution_count": null,
   "id": "42de2d92",
   "metadata": {},
   "outputs": [],
   "source": []
  },
  {
   "cell_type": "code",
   "execution_count": null,
   "id": "31360e36",
   "metadata": {},
   "outputs": [],
   "source": []
  },
  {
   "cell_type": "code",
   "execution_count": 52,
   "id": "bec591bb",
   "metadata": {},
   "outputs": [],
   "source": [
    "from nltk.stem.porter import PorterStemmer\n",
    "from nltk.tokenize import word_tokenize\n",
    "\n",
    "porter = PorterStemmer()\n",
    "\n",
    "# Easy basic tokenization\n",
    "def tokenizer(text):\n",
    "    return word_tokenize(text)\n",
    "\n",
    "\n",
    "# tokenization + stemming\n",
    "def tokenizer_porter(text):\n",
    "    return [porter.stem(word) for word in word_tokenize(text)]"
   ]
  },
  {
   "cell_type": "code",
   "execution_count": 53,
   "id": "7d249169",
   "metadata": {},
   "outputs": [
    {
     "name": "stderr",
     "output_type": "stream",
     "text": [
      "[nltk_data] Downloading package stopwords to\n",
      "[nltk_data]     C:\\Users\\10435\\AppData\\Roaming\\nltk_data...\n",
      "[nltk_data]   Package stopwords is already up-to-date!\n"
     ]
    },
    {
     "data": {
      "text/plain": [
       "True"
      ]
     },
     "execution_count": 53,
     "metadata": {},
     "output_type": "execute_result"
    }
   ],
   "source": [
    "import nltk\n",
    "\n",
    "nltk.download('stopwords')"
   ]
  },
  {
   "cell_type": "code",
   "execution_count": 54,
   "id": "0bc72c14",
   "metadata": {},
   "outputs": [],
   "source": [
    "from nltk.corpus import stopwords"
   ]
  },
  {
   "cell_type": "code",
   "execution_count": 55,
   "id": "2eee07d6",
   "metadata": {},
   "outputs": [],
   "source": [
    "stop = stopwords.words('english')+[\"'d\", \"'ll\", \"'re\", \"'s\", \"'ve\", 'abov', 'ani', 'becaus', 'befor', 'could', 'doe', 'dure', 'ha', 'hi', 'might', 'must', \"n't\", 'need', 'onc', 'onli', 'ourselv', 'sha', 'themselv', 'thi', 'veri', 'wa', 'whi', 'wo', 'would', 'yourselv']+[\"'d\", \"'ll\", \"'re\", \"'s\", \"'ve\", 'abov', 'ani', 'becaus', 'befor', 'could', 'doe', 'dure', 'ha', 'hi', 'might', 'must', \"n't\", 'need', 'onc', 'onli', 'ourselv', 'sha', 'themselv', 'thi', 'veri', 'wa', 'whi', 'wo', 'would', 'yourselv']"
   ]
  },
  {
   "cell_type": "code",
   "execution_count": 56,
   "id": "744f8998",
   "metadata": {},
   "outputs": [
    {
     "data": {
      "text/plain": [
       "['i',\n",
       " 'me',\n",
       " 'my',\n",
       " 'myself',\n",
       " 'we',\n",
       " 'our',\n",
       " 'ours',\n",
       " 'ourselves',\n",
       " 'you',\n",
       " \"you're\",\n",
       " \"you've\",\n",
       " \"you'll\",\n",
       " \"you'd\",\n",
       " 'your',\n",
       " 'yours',\n",
       " 'yourself',\n",
       " 'yourselves',\n",
       " 'he',\n",
       " 'him',\n",
       " 'his',\n",
       " 'himself',\n",
       " 'she',\n",
       " \"she's\",\n",
       " 'her',\n",
       " 'hers',\n",
       " 'herself',\n",
       " 'it',\n",
       " \"it's\",\n",
       " 'its',\n",
       " 'itself',\n",
       " 'they',\n",
       " 'them',\n",
       " 'their',\n",
       " 'theirs',\n",
       " 'themselves',\n",
       " 'what',\n",
       " 'which',\n",
       " 'who',\n",
       " 'whom',\n",
       " 'this',\n",
       " 'that',\n",
       " \"that'll\",\n",
       " 'these',\n",
       " 'those',\n",
       " 'am',\n",
       " 'is',\n",
       " 'are',\n",
       " 'was',\n",
       " 'were',\n",
       " 'be',\n",
       " 'been',\n",
       " 'being',\n",
       " 'have',\n",
       " 'has',\n",
       " 'had',\n",
       " 'having',\n",
       " 'do',\n",
       " 'does',\n",
       " 'did',\n",
       " 'doing',\n",
       " 'a',\n",
       " 'an',\n",
       " 'the',\n",
       " 'and',\n",
       " 'but',\n",
       " 'if',\n",
       " 'or',\n",
       " 'because',\n",
       " 'as',\n",
       " 'until',\n",
       " 'while',\n",
       " 'of',\n",
       " 'at',\n",
       " 'by',\n",
       " 'for',\n",
       " 'with',\n",
       " 'about',\n",
       " 'against',\n",
       " 'between',\n",
       " 'into',\n",
       " 'through',\n",
       " 'during',\n",
       " 'before',\n",
       " 'after',\n",
       " 'above',\n",
       " 'below',\n",
       " 'to',\n",
       " 'from',\n",
       " 'up',\n",
       " 'down',\n",
       " 'in',\n",
       " 'out',\n",
       " 'on',\n",
       " 'off',\n",
       " 'over',\n",
       " 'under',\n",
       " 'again',\n",
       " 'further',\n",
       " 'then',\n",
       " 'once',\n",
       " 'here',\n",
       " 'there',\n",
       " 'when',\n",
       " 'where',\n",
       " 'why',\n",
       " 'how',\n",
       " 'all',\n",
       " 'any',\n",
       " 'both',\n",
       " 'each',\n",
       " 'few',\n",
       " 'more',\n",
       " 'most',\n",
       " 'other',\n",
       " 'some',\n",
       " 'such',\n",
       " 'no',\n",
       " 'nor',\n",
       " 'not',\n",
       " 'only',\n",
       " 'own',\n",
       " 'same',\n",
       " 'so',\n",
       " 'than',\n",
       " 'too',\n",
       " 'very',\n",
       " 's',\n",
       " 't',\n",
       " 'can',\n",
       " 'will',\n",
       " 'just',\n",
       " 'don',\n",
       " \"don't\",\n",
       " 'should',\n",
       " \"should've\",\n",
       " 'now',\n",
       " 'd',\n",
       " 'll',\n",
       " 'm',\n",
       " 'o',\n",
       " 're',\n",
       " 've',\n",
       " 'y',\n",
       " 'ain',\n",
       " 'aren',\n",
       " \"aren't\",\n",
       " 'couldn',\n",
       " \"couldn't\",\n",
       " 'didn',\n",
       " \"didn't\",\n",
       " 'doesn',\n",
       " \"doesn't\",\n",
       " 'hadn',\n",
       " \"hadn't\",\n",
       " 'hasn',\n",
       " \"hasn't\",\n",
       " 'haven',\n",
       " \"haven't\",\n",
       " 'isn',\n",
       " \"isn't\",\n",
       " 'ma',\n",
       " 'mightn',\n",
       " \"mightn't\",\n",
       " 'mustn',\n",
       " \"mustn't\",\n",
       " 'needn',\n",
       " \"needn't\",\n",
       " 'shan',\n",
       " \"shan't\",\n",
       " 'shouldn',\n",
       " \"shouldn't\",\n",
       " 'wasn',\n",
       " \"wasn't\",\n",
       " 'weren',\n",
       " \"weren't\",\n",
       " 'won',\n",
       " \"won't\",\n",
       " 'wouldn',\n",
       " \"wouldn't\",\n",
       " \"'d\",\n",
       " \"'ll\",\n",
       " \"'re\",\n",
       " \"'s\",\n",
       " \"'ve\",\n",
       " 'abov',\n",
       " 'ani',\n",
       " 'becaus',\n",
       " 'befor',\n",
       " 'could',\n",
       " 'doe',\n",
       " 'dure',\n",
       " 'ha',\n",
       " 'hi',\n",
       " 'might',\n",
       " 'must',\n",
       " \"n't\",\n",
       " 'need',\n",
       " 'onc',\n",
       " 'onli',\n",
       " 'ourselv',\n",
       " 'sha',\n",
       " 'themselv',\n",
       " 'thi',\n",
       " 'veri',\n",
       " 'wa',\n",
       " 'whi',\n",
       " 'wo',\n",
       " 'would',\n",
       " 'yourselv',\n",
       " \"'d\",\n",
       " \"'ll\",\n",
       " \"'re\",\n",
       " \"'s\",\n",
       " \"'ve\",\n",
       " 'abov',\n",
       " 'ani',\n",
       " 'becaus',\n",
       " 'befor',\n",
       " 'could',\n",
       " 'doe',\n",
       " 'dure',\n",
       " 'ha',\n",
       " 'hi',\n",
       " 'might',\n",
       " 'must',\n",
       " \"n't\",\n",
       " 'need',\n",
       " 'onc',\n",
       " 'onli',\n",
       " 'ourselv',\n",
       " 'sha',\n",
       " 'themselv',\n",
       " 'thi',\n",
       " 'veri',\n",
       " 'wa',\n",
       " 'whi',\n",
       " 'wo',\n",
       " 'would',\n",
       " 'yourselv']"
      ]
     },
     "execution_count": 56,
     "metadata": {},
     "output_type": "execute_result"
    }
   ],
   "source": [
    "stop"
   ]
  },
  {
   "cell_type": "code",
   "execution_count": 57,
   "id": "d9319e39",
   "metadata": {},
   "outputs": [
    {
     "data": {
      "text/plain": [
       "0    many introductory lessons useful week 1 2 3 te...\n",
       "1    extremely basic much help see contribute findi...\n",
       "2           liked videos lot get point journal entries\n",
       "3    overall thought great introduction topics cove...\n",
       "4    gives great foundation data analytics instruct...\n",
       "Name: reviews, dtype: object"
      ]
     },
     "execution_count": 57,
     "metadata": {},
     "output_type": "execute_result"
    }
   ],
   "source": [
    "df['reviews'] = df['reviews'].apply(lambda x: \" \".join(x for x in x.split() if x not in stop))\n",
    "df['reviews'].head()"
   ]
  },
  {
   "cell_type": "code",
   "execution_count": 58,
   "id": "fb9199d6",
   "metadata": {},
   "outputs": [
    {
     "data": {
      "text/plain": [
       "course       8216\n",
       "data         4535\n",
       "great        2943\n",
       "good         2259\n",
       "really       1355\n",
       "analytics    1178\n",
       "google       1098\n",
       "analysis     1033\n",
       "lot           991\n",
       "learn         971\n",
       "well          945\n",
       "learning      936\n",
       "excellent     896\n",
       "thank         837\n",
       "easy          808\n",
       "dtype: int64"
      ]
     },
     "execution_count": 58,
     "metadata": {},
     "output_type": "execute_result"
    }
   ],
   "source": [
    "freq = pd.Series(' '.join(df[\"reviews\"]).split()).value_counts()[:15]\n",
    "\n",
    "freq"
   ]
  },
  {
   "cell_type": "code",
   "execution_count": 59,
   "id": "9caa6c9a",
   "metadata": {},
   "outputs": [],
   "source": [
    "freq1 = list(freq.index)\n",
    "df[\"reviews\"] = df[\"reviews\"].apply(lambda x: \" \".join(x for x in x.split() if x not in freq1))"
   ]
  },
  {
   "cell_type": "code",
   "execution_count": 60,
   "id": "00c0ab48",
   "metadata": {},
   "outputs": [
    {
     "data": {
      "text/plain": [
       "tutored        1\n",
       "freelanced     1\n",
       "englighting    1\n",
       "concretize     1\n",
       "erase          1\n",
       "              ..\n",
       "strive         1\n",
       "ignored        1\n",
       "tiny           1\n",
       "nuisance       1\n",
       "headache       1\n",
       "Length: 1000, dtype: int64"
      ]
     },
     "execution_count": 60,
     "metadata": {},
     "output_type": "execute_result"
    }
   ],
   "source": [
    "freqq = pd.Series(' '.join(df[\"reviews\"]).split()).value_counts()[-1000:]\n",
    "freqq"
   ]
  },
  {
   "cell_type": "code",
   "execution_count": 61,
   "id": "4e740f28",
   "metadata": {},
   "outputs": [],
   "source": [
    "freqq1 = list(freqq.index)\n",
    "df[\"reviews\"] = df[\"reviews\"].apply(lambda x: \" \".join(x for x in x.split() if x not in freqq1))"
   ]
  },
  {
   "cell_type": "code",
   "execution_count": 62,
   "id": "a60e9649",
   "metadata": {},
   "outputs": [
    {
     "data": {
      "text/plain": [
       "(14204, 5)"
      ]
     },
     "execution_count": 62,
     "metadata": {},
     "output_type": "execute_result"
    }
   ],
   "source": [
    "df.shape"
   ]
  },
  {
   "cell_type": "code",
   "execution_count": null,
   "id": "f154ba03",
   "metadata": {},
   "outputs": [],
   "source": []
  },
  {
   "cell_type": "code",
   "execution_count": null,
   "id": "eda679fc",
   "metadata": {},
   "outputs": [],
   "source": []
  },
  {
   "cell_type": "code",
   "execution_count": 63,
   "id": "5694e18b",
   "metadata": {},
   "outputs": [],
   "source": [
    "minReviewLen = 15\n",
    "\n",
    "DF = df[df[\"reviews\"].str.len() > minReviewLen]"
   ]
  },
  {
   "cell_type": "code",
   "execution_count": 64,
   "id": "bbcd0aaa",
   "metadata": {},
   "outputs": [
    {
     "data": {
      "text/plain": [
       "(9874, 5)"
      ]
     },
     "execution_count": 64,
     "metadata": {},
     "output_type": "execute_result"
    }
   ],
   "source": [
    "DF.shape"
   ]
  },
  {
   "cell_type": "code",
   "execution_count": null,
   "id": "19f69b3e",
   "metadata": {},
   "outputs": [],
   "source": []
  },
  {
   "cell_type": "code",
   "execution_count": 65,
   "id": "79f05ec0",
   "metadata": {},
   "outputs": [],
   "source": [
    "import re\n",
    " \n",
    "def remove(text):\n",
    "    remove_chars = '[0-9’!\"#$%&\\'()*+,-./:;<=>?@，。?★、…【】《》？“”‘’！[\\\\]^_`{|}~]+'\n",
    "    return re.sub(remove_chars, '', text)"
   ]
  },
  {
   "cell_type": "code",
   "execution_count": 66,
   "id": "b04b8fb9",
   "metadata": {},
   "outputs": [
    {
     "name": "stderr",
     "output_type": "stream",
     "text": [
      "C:\\Users\\10435\\AppData\\Local\\Temp/ipykernel_42112/4041434018.py:1: SettingWithCopyWarning: \n",
      "A value is trying to be set on a copy of a slice from a DataFrame.\n",
      "Try using .loc[row_indexer,col_indexer] = value instead\n",
      "\n",
      "See the caveats in the documentation: https://pandas.pydata.org/pandas-docs/stable/user_guide/indexing.html#returning-a-view-versus-a-copy\n",
      "  DF[\"reviews\"]=DF[\"reviews\"].apply(remove)\n"
     ]
    }
   ],
   "source": [
    "DF[\"reviews\"]=DF[\"reviews\"].apply(remove)"
   ]
  },
  {
   "cell_type": "code",
   "execution_count": 67,
   "id": "fc452f18",
   "metadata": {},
   "outputs": [
    {
     "data": {
      "text/html": [
       "<div>\n",
       "<style scoped>\n",
       "    .dataframe tbody tr th:only-of-type {\n",
       "        vertical-align: middle;\n",
       "    }\n",
       "\n",
       "    .dataframe tbody tr th {\n",
       "        vertical-align: top;\n",
       "    }\n",
       "\n",
       "    .dataframe thead th {\n",
       "        text-align: right;\n",
       "    }\n",
       "</style>\n",
       "<table border=\"1\" class=\"dataframe\">\n",
       "  <thead>\n",
       "    <tr style=\"text-align: right;\">\n",
       "      <th></th>\n",
       "      <th>reviews</th>\n",
       "      <th>ratings</th>\n",
       "      <th>votes</th>\n",
       "      <th>class</th>\n",
       "      <th>classnum</th>\n",
       "    </tr>\n",
       "  </thead>\n",
       "  <tbody>\n",
       "    <tr>\n",
       "      <th>0</th>\n",
       "      <td>many introductory lessons useful week    teach...</td>\n",
       "      <td>1</td>\n",
       "      <td>185</td>\n",
       "      <td>bad</td>\n",
       "      <td>-1</td>\n",
       "    </tr>\n",
       "    <tr>\n",
       "      <th>1</th>\n",
       "      <td>extremely basic much help see contribute findi...</td>\n",
       "      <td>1</td>\n",
       "      <td>67</td>\n",
       "      <td>bad</td>\n",
       "      <td>-1</td>\n",
       "    </tr>\n",
       "    <tr>\n",
       "      <th>2</th>\n",
       "      <td>liked videos get point journal entries</td>\n",
       "      <td>4</td>\n",
       "      <td>50</td>\n",
       "      <td>neutral</td>\n",
       "      <td>0</td>\n",
       "    </tr>\n",
       "    <tr>\n",
       "      <th>3</th>\n",
       "      <td>overall thought introduction topics covered ce...</td>\n",
       "      <td>3</td>\n",
       "      <td>47</td>\n",
       "      <td>neutral</td>\n",
       "      <td>0</td>\n",
       "    </tr>\n",
       "    <tr>\n",
       "      <th>4</th>\n",
       "      <td>gives foundation instructors skim everything l...</td>\n",
       "      <td>5</td>\n",
       "      <td>33</td>\n",
       "      <td>good</td>\n",
       "      <td>1</td>\n",
       "    </tr>\n",
       "  </tbody>\n",
       "</table>\n",
       "</div>"
      ],
      "text/plain": [
       "                                             reviews  ratings  votes    class  \\\n",
       "0  many introductory lessons useful week    teach...        1    185      bad   \n",
       "1  extremely basic much help see contribute findi...        1     67      bad   \n",
       "2             liked videos get point journal entries        4     50  neutral   \n",
       "3  overall thought introduction topics covered ce...        3     47  neutral   \n",
       "4  gives foundation instructors skim everything l...        5     33     good   \n",
       "\n",
       "   classnum  \n",
       "0        -1  \n",
       "1        -1  \n",
       "2         0  \n",
       "3         0  \n",
       "4         1  "
      ]
     },
     "execution_count": 67,
     "metadata": {},
     "output_type": "execute_result"
    }
   ],
   "source": [
    "DF.head()"
   ]
  },
  {
   "cell_type": "code",
   "execution_count": null,
   "id": "b2f4e6ff",
   "metadata": {},
   "outputs": [],
   "source": []
  },
  {
   "cell_type": "code",
   "execution_count": null,
   "id": "a663c5bd",
   "metadata": {},
   "outputs": [],
   "source": []
  },
  {
   "cell_type": "code",
   "execution_count": 23,
   "id": "37312aba",
   "metadata": {},
   "outputs": [
    {
     "name": "stderr",
     "output_type": "stream",
     "text": [
      "100%|██████████| 7/7 [02:23<00:00, 20.47s/it]\n"
     ]
    }
   ],
   "source": [
    "import warnings\n",
    "from gensim.corpora.dictionary import Dictionary\n",
    "from gensim.models.phrases import Phrases\n",
    "import tqdm\n",
    "import logging\n",
    "\n",
    "from gensim.models import CoherenceModel\n",
    "from gensim.models import LdaMulticore\n",
    "\n",
    "warnings.filterwarnings(\"ignore\", category=DeprecationWarning)\n",
    "\n",
    "df_stopped = DF[\"reviews\"].apply(lambda x: \" \".join(x for x in str(x).split() if x not in stop))\n",
    "df_stopped_tokenized = df_stopped.apply(tokenizer)\n",
    "df_stopped_tokenized.head()\n",
    "\n",
    "\n",
    "dictionary = Dictionary(df_stopped_tokenized)\n",
    "\n",
    "# Filter out words that occur less than 10 documents, or more than 90% of the documents.\n",
    "# Same effect as min_df, max_df in CountVectorizer \n",
    "dictionary.filter_extremes(no_below=5, no_above=0.9)\n",
    "dictionary.compactify()\n",
    "\n",
    "corpus = [dictionary.doc2bow(txt) for txt in df_stopped_tokenized]\n",
    "\n",
    "\n",
    "\n",
    "MULTICORE = True\n",
    "import psutil\n",
    "NUM_CORES = psutil.cpu_count(logical=False)\n",
    "\n",
    "\n",
    "\n",
    "\n",
    "gensim_logger = logging.getLogger('gensim.models.ldamodel')\n",
    "gensim_logger.setLevel(logging.DEBUG)\n",
    "\n",
    "history = []\n",
    "Ks = [4, 6, 8, 10, 20, 50, 100]\n",
    "\n",
    "for K in tqdm.tqdm(Ks):\n",
    "    \n",
    "    lda_k = LdaMulticore(\n",
    "            corpus=corpus, \n",
    "            id2word=dictionary,\n",
    "            num_topics=K, \n",
    "            iterations=100,\n",
    "            passes=20,\n",
    "            eval_every=None,\n",
    "            random_state=42,\n",
    "            workers=NUM_CORES - 1              # Adjust it to your computer: Number of CPU Cores - 1\n",
    "        )\n",
    "\n",
    "    coherence_umass = CoherenceModel(\n",
    "            model=lda_k, \n",
    "            corpus=corpus,\n",
    "            dictionary=dictionary, \n",
    "            coherence='u_mass'\n",
    "        )\n",
    "    umass = coherence_umass.get_coherence()\n",
    "\n",
    "\n",
    "    history.append({'K': K, 'model': lda_k,'umass': umass,})"
   ]
  },
  {
   "cell_type": "code",
   "execution_count": 24,
   "id": "67703db5",
   "metadata": {},
   "outputs": [
    {
     "data": {
      "image/png": "[encoded data removed]",
      "text/plain": [
       "<Figure size 864x864 with 1 Axes>"
      ]
     },
     "metadata": {
      "needs_background": "light"
     },
     "output_type": "display_data"
    }
   ],
   "source": [
    "df_score = pd.DataFrame(history).set_index('K')\n",
    "_ = df_score[['umass']].plot.line(marker='.', figsize=(12, 12))"
   ]
  },
  {
   "cell_type": "code",
   "execution_count": 26,
   "id": "63c22de2",
   "metadata": {},
   "outputs": [
    {
     "data": {
      "text/plain": [
       "[(0,\n",
       "  '0.026*\"instructor\" + 0.020*\"content\" + 0.019*\"amazing\" + 0.018*\"best\" + 0.017*\"thanks\" + 0.017*\"way\" + 0.017*\"understand\" + 0.015*\"courses\" + 0.014*\"much\" + 0.014*\"enjoyed\"'),\n",
       " (1,\n",
       "  '0.019*\"sql\" + 0.016*\"skills\" + 0.016*\"analyst\" + 0.014*\"new\" + 0.012*\"information\" + 0.011*\"basic\" + 0.011*\"also\" + 0.010*\"concepts\" + 0.009*\"knowledge\" + 0.009*\"useful\"'),\n",
       " (2,\n",
       "  '0.048*\"step\" + 0.045*\"de\" + 0.031*\"que\" + 0.026*\"curso\" + 0.020*\"el\" + 0.020*\"en\" + 0.019*\"muy\" + 0.017*\"para\" + 0.015*\"clean\" + 0.014*\"la\"'),\n",
       " (3,\n",
       "  '0.018*\"questions\" + 0.013*\"videos\" + 0.012*\"like\" + 0.011*\"bit\" + 0.010*\"time\" + 0.010*\"one\" + 0.009*\"video\" + 0.009*\"material\" + 0.008*\"sql\" + 0.008*\"little\"')]"
      ]
     },
     "execution_count": 26,
     "metadata": {},
     "output_type": "execute_result"
    }
   ],
   "source": [
    "from gensim.models.ldamodel import LdaModel\n",
    "lda = LdaModel(\n",
    "    corpus=corpus, \n",
    "    id2word=dictionary,\n",
    "    num_topics=4, \n",
    "    alpha='auto',\n",
    "    eta='auto',\n",
    "    iterations=100,\n",
    "    passes=20,\n",
    "    eval_every=None,\n",
    "    random_state=42,\n",
    "    per_word_topics=True\n",
    ")\n",
    "\n",
    "lda.print_topics()"
   ]
  },
  {
   "cell_type": "code",
   "execution_count": null,
   "id": "d4a3fd4b",
   "metadata": {},
   "outputs": [],
   "source": []
  },
  {
   "cell_type": "code",
   "execution_count": null,
   "id": "1eca99d2",
   "metadata": {},
   "outputs": [],
   "source": []
  },
  {
   "cell_type": "code",
   "execution_count": null,
   "id": "f2dd5f60",
   "metadata": {},
   "outputs": [],
   "source": []
  },
  {
   "cell_type": "code",
   "execution_count": null,
   "id": "84b7c2bd",
   "metadata": {},
   "outputs": [],
   "source": []
  },
  {
   "cell_type": "code",
   "execution_count": null,
   "id": "c58e1c81",
   "metadata": {},
   "outputs": [],
   "source": []
  },
  {
   "cell_type": "code",
   "execution_count": null,
   "id": "d589d7a5",
   "metadata": {},
   "outputs": [],
   "source": []
  },
  {
   "cell_type": "code",
   "execution_count": null,
   "id": "68920fa6",
   "metadata": {},
   "outputs": [],
   "source": []
  },
  {
   "cell_type": "code",
   "execution_count": 68,
   "id": "8780854a",
   "metadata": {},
   "outputs": [],
   "source": [
    "from sklearn.model_selection import train_test_split\n",
    "X_train, X_test, y_train, y_test = train_test_split(DF[\"reviews\"], DF[\"class\"], test_size=0.2, stratify=DF[\"class\"], random_state=42)"
   ]
  },
  {
   "cell_type": "code",
   "execution_count": 69,
   "id": "352315ef",
   "metadata": {},
   "outputs": [
    {
     "data": {
      "text/plain": [
       "2398              got know alot hope help finding new job\n",
       "3033             marks awesome help analyst job searching\n",
       "2243    everything clearly presented every exercise fe...\n",
       "27      imagined throughout steps lifecycle repeated s...\n",
       "148     far introductory graduate degree found things ...\n",
       "Name: reviews, dtype: object"
      ]
     },
     "execution_count": 69,
     "metadata": {},
     "output_type": "execute_result"
    }
   ],
   "source": [
    "X_train.head()"
   ]
  },
  {
   "cell_type": "code",
   "execution_count": 26,
   "id": "14ccb190",
   "metadata": {},
   "outputs": [],
   "source": [
    "from sklearn.utils import resample\n",
    "\n",
    "X_train_rsp,y_train_rsp = resample(X_train[y_train == 1],\n",
    "                       y_train[y_train == 1],\n",
    "                       replace = True, \n",
    "                       n_samples = X_train[y_train== 4].shape[0],\n",
    "                       random_state = 42)\n",
    "\n",
    "X_train_rsp1,y_train_rsp1 = resample(X_train[y_train == 2],\n",
    "                         y_train[y_train == 2],\n",
    "                         replace = True, \n",
    "                         n_samples = X_train[y_train== 4].shape[0],\n",
    "                         random_state = 42)\n",
    "\n",
    "X_train_rsp2,y_train_rsp2 = resample(X_train[y_train == 3],\n",
    "                         y_train[y_train == 3],\n",
    "                         replace = True, \n",
    "                         n_samples = X_train[y_train== 4].shape[0],\n",
    "                         random_state = 42)\n",
    "X_train_rsp3,y_train_rsp3 = resample(X_train[y_train == 5],\n",
    "                         y_train[y_train == 5],\n",
    "                         replace = True, \n",
    "                         n_samples = X_train[y_train== 4].shape[0],\n",
    "                         random_state = 42)\n",
    "X_train_bal = np.hstack((X_train[y_train == 4],X_train_rsp3,X_train_rsp2,X_train_rsp1,X_train_rsp ))\n",
    "y_train_bal = np.hstack((y_train[y_train== 4], y_train_rsp3,y_train_rsp2,y_train_rsp1,y_train_rsp))\n"
   ]
  },
  {
   "cell_type": "code",
   "execution_count": 70,
   "id": "e42955e2",
   "metadata": {},
   "outputs": [],
   "source": [
    "from sklearn.pipeline import Pipeline\n",
    "from sklearn.linear_model import LogisticRegression\n",
    "from sklearn.feature_extraction.text import TfidfVectorizer\n",
    "from sklearn.model_selection import GridSearchCV\n",
    "import numpy as np\n",
    "from sklearn.metrics import roc_auc_score\n",
    "\n",
    "\n",
    "\n",
    "tfidf = TfidfVectorizer(strip_accents=None,\n",
    "                        lowercase=True,\n",
    "                        preprocessor=None)"
   ]
  },
  {
   "cell_type": "code",
   "execution_count": 71,
   "id": "b4cf1828",
   "metadata": {},
   "outputs": [
    {
     "name": "stdout",
     "output_type": "stream",
     "text": [
      "Fitting 5 folds for each of 84 candidates, totalling 420 fits\n",
      "Best parameter set: {'clf__C': 0.01, 'vect__ngram_range': (1, 2), 'vect__tokenizer': <function tokenizer at 0x000002889852A550>, 'vect__use_idf': True} \n",
      "CV recall: 0.640\n",
      "Pipeline(steps=[('vect',\n",
      "                 TfidfVectorizer(ngram_range=(1, 2),\n",
      "                                 tokenizer=<function tokenizer at 0x000002889852A550>)),\n",
      "                ('clf',\n",
      "                 LogisticRegression(C=0.01, class_weight='balanced',\n",
      "                                    multi_class='multinomial', random_state=42,\n",
      "                                    solver='saga'))])\n"
     ]
    }
   ],
   "source": [
    "\n",
    "\n",
    "param_grid = {'vect__ngram_range': [(1, 1),(1,2),(1,3)],\n",
    "               'vect__tokenizer': [tokenizer, tokenizer_porter],\n",
    "               'clf__C': np.logspace(-3, 3, num=7),\n",
    "               'vect__use_idf':[True, False]}\n",
    "            \n",
    "\n",
    "lr_tfidf = Pipeline([('vect', tfidf),\n",
    "                     ('clf', LogisticRegression(random_state=42, solver=\"saga\",multi_class = \"multinomial\",class_weight = \"balanced\",penalty= \"l2\"))])\n",
    "\n",
    "gs_lr_tfidf = GridSearchCV(lr_tfidf, param_grid,\n",
    "                           scoring='recall_macro',\n",
    "                           cv=5,\n",
    "                           verbose=2,\n",
    "                           n_jobs=-1)\n",
    "\n",
    "gs_lr_tfidf.fit(X_train, y_train)\n",
    "\n",
    "print('Best parameter set: %s ' % gs_lr_tfidf.best_params_)\n",
    "print('CV recall: %.3f' % gs_lr_tfidf.best_score_)\n",
    "clf = gs_lr_tfidf.best_estimator_\n",
    "print (clf)"
   ]
  },
  {
   "cell_type": "code",
   "execution_count": 72,
   "id": "950bf96f",
   "metadata": {
    "scrolled": true
   },
   "outputs": [
    {
     "name": "stdout",
     "output_type": "stream",
     "text": [
      "              precision    recall  f1-score   support\n",
      "\n",
      "         bad       0.26      0.64      0.37        88\n",
      "        good       0.90      0.84      0.87      1523\n",
      "     neutral       0.45      0.41      0.43       364\n",
      "\n",
      "    accuracy                           0.75      1975\n",
      "   macro avg       0.54      0.63      0.56      1975\n",
      "weighted avg       0.79      0.75      0.77      1975\n",
      "\n"
     ]
    }
   ],
   "source": [
    "from sklearn.metrics import classification_report\n",
    "print(classification_report(y_true=y_test, y_pred=clf.predict(X_test)))"
   ]
  },
  {
   "cell_type": "code",
   "execution_count": 88,
   "id": "cee56e81",
   "metadata": {},
   "outputs": [
    {
     "data": {
      "text/plain": [
       "<sklearn.metrics._plot.confusion_matrix.ConfusionMatrixDisplay at 0x2888f1c8ee0>"
      ]
     },
     "execution_count": 88,
     "metadata": {},
     "output_type": "execute_result"
    },
    {
     "data": {
      "image/png": "[encoded data removed]",
      "text/plain": [
       "<Figure size 432x288 with 2 Axes>"
      ]
     },
     "metadata": {
      "needs_background": "light"
     },
     "output_type": "display_data"
    }
   ],
   "source": [
    "from sklearn.metrics import confusion_matrix, ConfusionMatrixDisplay\n",
    "\n",
    "predictions = clf.predict(X_test)\n",
    "cm = confusion_matrix(y_test, predictions, labels=clf.classes_)\n",
    "disp = ConfusionMatrixDisplay(confusion_matrix=cm,\n",
    "                               display_labels=clf.classes_)\n",
    "\n",
    "disp.plot()"
   ]
  },
  {
   "cell_type": "code",
   "execution_count": 31,
   "id": "dcdd1760",
   "metadata": {},
   "outputs": [],
   "source": [
    "stop1=stop+['much','becau',\"'d\", \"'ll\", \"'re\", \"'s\", \"'ve\", 'abov', 'ani', 'becaus', 'befor', 'could', 'doe', 'dure', 'ha', 'hi', 'might', 'must', \"n't\", 'need', 'onc', 'onli', 'ourselv', 'sha', 'themselv', 'thi', 'veri', 'wa', 'whi', 'wo', 'would', 'yourselv']"
   ]
  },
  {
   "cell_type": "code",
   "execution_count": 32,
   "id": "77302924",
   "metadata": {},
   "outputs": [
    {
     "name": "stderr",
     "output_type": "stream",
     "text": [
      "D:\\Anaconda\\lib\\site-packages\\sklearn\\utils\\deprecation.py:87: FutureWarning: Function get_feature_names is deprecated; get_feature_names is deprecated in 1.0 and will be removed in 1.2. Please use get_feature_names_out instead.\n",
      "  warnings.warn(msg, category=FutureWarning)\n"
     ]
    },
    {
     "name": "stdout",
     "output_type": "stream",
     "text": [
      "Vocabulary size: 62216\n",
      "Sample:\n",
      "abarca\n",
      "aim develop\n",
      "amazing thing\n",
      "aplicar definitivamente\n",
      "augen\n",
      "becomes bit\n",
      "bigquery sql\n",
      "capstone experience\n",
      "chunk based\n",
      "communication\n",
      "conduct\n",
      "correct one\n",
      "curo de\n",
      "degree difference\n",
      "digest quite\n",
      "efectiva manejo\n",
      "enjoyed opportunity\n",
      "ever lots\n",
      "exhaust working\n",
      "exposed programs\n",
      "felt bit\n",
      "follow see\n",
      "full description\n",
      "give completion\n",
      "group directly\n",
      "helpful easier\n",
      "illuminating\n",
      "information new\n",
      "instructor led\n",
      "introduction ability\n",
      "keep going\n",
      "las consideraciones\n",
      "level jumped\n",
      "logics\n",
      "makes new\n",
      "mejor es\n",
      "muy muy\n",
      "notebook\n",
      "order properly\n",
      "participating discussions\n",
      "placement assistance\n",
      "pragmatic straight\n",
      "process included\n",
      "provides solid\n",
      "quite useful\n",
      "recommend fromgoogle\n",
      "resources understand\n",
      "schools colleges\n",
      "share motivating\n",
      "skills visualization\n",
      "split function\n",
      "stemmed\n",
      "style level\n",
      "taking another\n",
      "terminologies\n",
      "thinking coding\n",
      "tony presented\n",
      "tutoring\n",
      "unworthy\n",
      "various teaching\n",
      "watching short\n",
      "wonderful mix\n",
      "zip\n",
      "(3, 62216)\n",
      "Nb Classes: 3, Nb Words: 62216\n"
     ]
    }
   ],
   "source": [
    "lr_tfidf=TfidfVectorizer(strip_accents=None,\n",
    "                        lowercase=True,\n",
    "                        preprocessor=None,\n",
    "                        stop_words = stop1,\n",
    "                        tokenizer= tokenizer,\n",
    "                        use_idf=True,\n",
    "                        ngram_range = (1,2))\n",
    "\n",
    "X_train_bow = lr_tfidf.fit_transform(X_train)\n",
    "X_test_bow = lr_tfidf.transform(X_test)\n",
    "\n",
    "words = lr_tfidf.get_feature_names()\n",
    "\n",
    "print(f'Vocabulary size: {len(words)}')\n",
    "one_every_1000 = '\\n'.join(words[::1000])\n",
    "print(f'Sample:\\n{one_every_1000}')\n",
    "\n",
    "from sklearn.linear_model import LogisticRegressionCV\n",
    "lr_clf = LogisticRegressionCV(max_iter=1e4,\n",
    "                              Cs=[0.01,0.01,0.01,0.01], \n",
    "                              random_state=42,\n",
    "                              solver='saga', \n",
    "                              multi_class='multinomial', \n",
    "                              cv=5, \n",
    "                              class_weight = \"balanced\",\n",
    "                              penalty=\"l2\").fit(X_train_bow, y_train)\n",
    "\n",
    "print(lr_clf.coef_.shape)\n",
    "print(f'Nb Classes: {lr_clf.coef_.shape[0]}, Nb Words: {lr_clf.coef_.shape[1]}')\n",
    "\n",
    "coefs = pd.DataFrame([{'class': lr_clf.classes_[i], 'word': words[j], 'coef': co} for (i, j), co in np.ndenumerate(lr_clf.coef_)])\n",
    "\n",
    "sort_by_coef = coefs.groupby(['class']).apply(lambda x: x.sort_values('coef', ascending=False)).reset_index(drop=True)\n",
    "\n"
   ]
  },
  {
   "cell_type": "code",
   "execution_count": 42,
   "id": "a4f309b7",
   "metadata": {},
   "outputs": [
    {
     "data": {
      "image/png": "[encoded data removed]",
      "text/plain": [
       "<Figure size 2160x3240 with 6 Axes>"
      ]
     },
     "metadata": {
      "needs_background": "light"
     },
     "output_type": "display_data"
    }
   ],
   "source": [
    "import matplotlib.pyplot as plt\n",
    "\n",
    "fig, axs = plt.subplots(nrows=3, ncols=2, figsize=(30, 45))\n",
    "\n",
    "cut = 15\n",
    "\n",
    "for ((_, _), ax), (c, g) in zip(np.ndenumerate(axs), sort_by_coef.groupby('class')):\n",
    "    t_cut = g.head(cut)\n",
    "    ax.bar(x=range(cut), height=t_cut['coef'])\n",
    "    ax.set_xticks(range(cut))\n",
    "    ax.set_xticklabels(t_cut['word'], rotation=45, ha='right',fontsize='xx-large')\n",
    "    ax.set_title(c,fontsize='xx-large')\n",
    "plt.savefig(\"E:/UVA\\Thesis/cousera data/visualization1.png\",dpi=1000)\n",
    "plt.show()\n"
   ]
  },
  {
   "cell_type": "code",
   "execution_count": 44,
   "id": "7ab975a2",
   "metadata": {},
   "outputs": [
    {
     "name": "stdout",
     "output_type": "stream",
     "text": [
      "Fitting 5 folds for each of 60 candidates, totalling 300 fits\n",
      "Best parameter set: {'clf__C': 0.1, 'vect__ngram_range': (1, 1), 'vect__tokenizer': <function tokenizer_porter at 0x000001C333025280>, 'vect__use_idf': True} \n",
      "CV recall: 0.623\n",
      "Test recall: 0.741\n",
      "Pipeline(steps=[('vect',\n",
      "                 TfidfVectorizer(tokenizer=<function tokenizer_porter at 0x000001C333025280>)),\n",
      "                ('clf',\n",
      "                 SVC(C=0.1, class_weight='balanced', kernel='linear',\n",
      "                     probability=True))])\n"
     ]
    }
   ],
   "source": [
    "# SVM linear\n",
    "from sklearn.svm import SVC\n",
    "\n",
    "\n",
    "svm_param_grid = {\n",
    "    'vect__ngram_range': [(1, 1),(1,2),(1,3)],\n",
    "    'vect__tokenizer': [tokenizer, tokenizer_porter],\n",
    "    'vect__use_idf':[True, False],\n",
    "    'clf__C': np.logspace(-2, 2, 5)  # generate 1e-3, 1e-2, 1e-1, 1, 10, 100, 1000\n",
    "}\n",
    "\n",
    "svm_tfidf = Pipeline([('vect', tfidf),\n",
    "                     ('clf', SVC(probability=True, kernel=\"linear\", class_weight=\"balanced\"))])\n",
    "\n",
    "gs_svm_tfidf = GridSearchCV(svm_tfidf, svm_param_grid,\n",
    "                           scoring= 'recall_macro',\n",
    "                           cv=5,\n",
    "                           verbose=2,\n",
    "                           n_jobs=-1)\n",
    "\n",
    "gs_svm_tfidf.fit(X_train, y_train)\n",
    "\n",
    "print('Best parameter set: %s ' % gs_svm_tfidf.best_params_)\n",
    "print('CV recall: %.3f' % gs_svm_tfidf.best_score_)\n",
    "clf1 = gs_svm_tfidf.best_estimator_\n",
    "print('Test recall: %.3f' % clf1.score(X_test, y_test))\n",
    "print (clf1)"
   ]
  },
  {
   "cell_type": "code",
   "execution_count": 46,
   "id": "80d5125a",
   "metadata": {},
   "outputs": [
    {
     "name": "stdout",
     "output_type": "stream",
     "text": [
      "              precision    recall  f1-score   support\n",
      "\n",
      "         bad       0.27      0.56      0.37        88\n",
      "        good       0.91      0.82      0.86      1523\n",
      "     neutral       0.40      0.47      0.43       364\n",
      "\n",
      "    accuracy                           0.74      1975\n",
      "   macro avg       0.53      0.61      0.55      1975\n",
      "weighted avg       0.79      0.74      0.76      1975\n",
      "\n"
     ]
    }
   ],
   "source": [
    "print(classification_report(y_true=y_test, y_pred=clf1.predict(X_test)))"
   ]
  },
  {
   "cell_type": "code",
   "execution_count": 45,
   "id": "b801c525",
   "metadata": {},
   "outputs": [
    {
     "name": "stdout",
     "output_type": "stream",
     "text": [
      "Fitting 5 folds for each of 60 candidates, totalling 300 fits\n",
      "Best parameter set: {'clf__C': 0.1, 'vect__ngram_range': (1, 1), 'vect__tokenizer': <function tokenizer_porter at 0x000001C333025280>, 'vect__use_idf': False} \n",
      "CV recall: 0.574\n",
      "Pipeline(steps=[('vect',\n",
      "                 TfidfVectorizer(tokenizer=<function tokenizer_porter at 0x000001C333025280>,\n",
      "                                 use_idf=False)),\n",
      "                ('clf', SVC(C=0.1, class_weight='balanced', probability=True))])\n"
     ]
    }
   ],
   "source": [
    "# SVM with rbf kernel\n",
    "\n",
    "rbfsvm_param_grid = {'vect__ngram_range': [(1, 1),(1,2),(1,3)],\n",
    "               'vect__tokenizer': [tokenizer,tokenizer_porter],\n",
    "               'vect__use_idf':[True,False],\n",
    "               'clf__C': np.logspace(-2, 2, 5)}\n",
    "              \n",
    "\n",
    "rbfsvm_tfidf = Pipeline([('vect', tfidf),\n",
    "                     ('clf', SVC(probability=True, kernel=\"rbf\", class_weight=\"balanced\"))])\n",
    "\n",
    "gs_rbfsvm_tfidf = GridSearchCV(rbfsvm_tfidf, rbfsvm_param_grid,\n",
    "                           scoring='recall_macro',\n",
    "                           cv=5,\n",
    "                           verbose=2,\n",
    "                           n_jobs=-1)\n",
    "\n",
    "gs_rbfsvm_tfidf.fit(X_train, y_train)\n",
    "\n",
    "print('Best parameter set: %s ' % gs_rbfsvm_tfidf.best_params_)\n",
    "print('CV recall: %.3f' % gs_rbfsvm_tfidf.best_score_)\n",
    "clf2 = gs_rbfsvm_tfidf.best_estimator_\n",
    "print (clf2)"
   ]
  },
  {
   "cell_type": "code",
   "execution_count": 47,
   "id": "c961900e",
   "metadata": {},
   "outputs": [
    {
     "name": "stdout",
     "output_type": "stream",
     "text": [
      "              precision    recall  f1-score   support\n",
      "\n",
      "         bad       0.31      0.44      0.37        88\n",
      "        good       0.90      0.77      0.83      1523\n",
      "     neutral       0.37      0.55      0.44       364\n",
      "\n",
      "    accuracy                           0.72      1975\n",
      "   macro avg       0.53      0.59      0.55      1975\n",
      "weighted avg       0.78      0.72      0.74      1975\n",
      "\n"
     ]
    }
   ],
   "source": [
    "print(classification_report(y_true=y_test, y_pred=clf2.predict(X_test)))"
   ]
  },
  {
   "cell_type": "code",
   "execution_count": 80,
   "id": "1702c72b",
   "metadata": {},
   "outputs": [
    {
     "name": "stdout",
     "output_type": "stream",
     "text": [
      "Fitting 5 folds for each of 72 candidates, totalling 360 fits\n",
      "Best parameter set: {'clf__max_depth': 45, 'vect__ngram_range': (1, 2), 'vect__tokenizer': <function tokenizer_porter at 0x000002889852A700>, 'vect__use_idf': True} \n",
      "CV recall: 0.475\n",
      "Pipeline(steps=[('vect',\n",
      "                 TfidfVectorizer(ngram_range=(1, 2),\n",
      "                                 tokenizer=<function tokenizer_porter at 0x000002889852A700>)),\n",
      "                ('clf',\n",
      "                 DecisionTreeClassifier(criterion='entropy', max_depth=45))])\n"
     ]
    }
   ],
   "source": [
    "from sklearn.tree import DecisionTreeClassifier\n",
    "\n",
    "dt_tfidf = Pipeline([('vect', tfidf),\n",
    "                     ('clf', DecisionTreeClassifier(criterion = \"entropy\"))])\n",
    "\n",
    "dt_param_grid = {'vect__ngram_range': [(1, 1),(1,2),(1,3)],\n",
    "               'vect__tokenizer': [tokenizer,tokenizer_porter],\n",
    "               'vect__use_idf':[True,False],\n",
    "               'clf__max_depth': range(20,50,5)}\n",
    "\n",
    "gs_dt_tfidf = GridSearchCV(dt_tfidf, dt_param_grid,\n",
    "                            scoring='recall_macro',\n",
    "                            cv=5,\n",
    "                            verbose=2,\n",
    "                            n_jobs=-1)\n",
    "\n",
    "gs_dt_tfidf.fit(X_train, y_train)\n",
    "\n",
    "print('Best parameter set: %s ' % gs_dt_tfidf.best_params_)\n",
    "print('CV recall: %.3f' % gs_dt_tfidf.best_score_)\n",
    "clf3 = gs_dt_tfidf.best_estimator_\n",
    "print (clf3)  "
   ]
  },
  {
   "cell_type": "code",
   "execution_count": 81,
   "id": "a2bb37cf",
   "metadata": {},
   "outputs": [
    {
     "name": "stdout",
     "output_type": "stream",
     "text": [
      "              precision    recall  f1-score   support\n",
      "\n",
      "         bad       0.34      0.28      0.31        88\n",
      "        good       0.83      0.91      0.87      1523\n",
      "     neutral       0.43      0.27      0.34       364\n",
      "\n",
      "    accuracy                           0.77      1975\n",
      "   macro avg       0.54      0.49      0.51      1975\n",
      "weighted avg       0.74      0.77      0.75      1975\n",
      "\n"
     ]
    }
   ],
   "source": [
    "print(classification_report(y_true=y_test, y_pred=clf3.predict(X_test)))"
   ]
  },
  {
   "cell_type": "code",
   "execution_count": 74,
   "id": "9bc34545",
   "metadata": {},
   "outputs": [
    {
     "name": "stdout",
     "output_type": "stream",
     "text": [
      "Fitting 5 folds for each of 312 candidates, totalling 1560 fits\n",
      "Best parameter set: {'clf__n_neighbors': 5, 'vect__ngram_range': (1, 1), 'vect__tokenizer': <function tokenizer_porter at 0x000002889852A700>, 'vect__use_idf': False} \n",
      "CV recall: 0.438\n",
      "Pipeline(steps=[('vect',\n",
      "                 TfidfVectorizer(tokenizer=<function tokenizer_porter at 0x000002889852A700>,\n",
      "                                 use_idf=False)),\n",
      "                ('clf',\n",
      "                 KNeighborsClassifier(metric='cosine', weights='distance'))])\n"
     ]
    }
   ],
   "source": [
    "from sklearn.neighbors import KNeighborsClassifier\n",
    "\n",
    "knn_tfidf = Pipeline([('vect', tfidf),\n",
    "                     ('clf', KNeighborsClassifier(weights = \"distance\",metric = \"cosine\" ))])\n",
    "\n",
    "knn_param_grid = {'vect__ngram_range': [(1, 1),(1,2),(1,3)],\n",
    "               'vect__tokenizer': [tokenizer,tokenizer_porter],\n",
    "               'vect__use_idf':[False,True],\n",
    "               'clf__n_neighbors': range(5,31,1)}\n",
    "\n",
    "gs_knn_tfidf = GridSearchCV(knn_tfidf, knn_param_grid,\n",
    "                            scoring='recall_macro',\n",
    "                            cv=5,\n",
    "                            verbose=2,\n",
    "                            n_jobs=-1)\n",
    "\n",
    "gs_knn_tfidf.fit(X_train, y_train)\n",
    "\n",
    "print('Best parameter set: %s ' % gs_knn_tfidf.best_params_)\n",
    "print('CV recall: %.3f' % gs_knn_tfidf.best_score_)\n",
    "\n",
    "clf4 = gs_knn_tfidf.best_estimator_\n",
    "print (clf4)"
   ]
  },
  {
   "cell_type": "code",
   "execution_count": 77,
   "id": "f0b0c483",
   "metadata": {},
   "outputs": [
    {
     "name": "stdout",
     "output_type": "stream",
     "text": [
      "              precision    recall  f1-score   support\n",
      "\n",
      "         bad       0.57      0.18      0.28        88\n",
      "        good       0.81      0.97      0.89      1523\n",
      "     neutral       0.51      0.19      0.28       364\n",
      "\n",
      "    accuracy                           0.79      1975\n",
      "   macro avg       0.63      0.45      0.48      1975\n",
      "weighted avg       0.75      0.79      0.75      1975\n",
      "\n"
     ]
    }
   ],
   "source": [
    "print(classification_report(y_true=y_test, y_pred=clf4.predict(X_test)))"
   ]
  },
  {
   "cell_type": "code",
   "execution_count": 82,
   "id": "d0da37a9",
   "metadata": {},
   "outputs": [
    {
     "name": "stdout",
     "output_type": "stream",
     "text": [
      "Fitting 5 folds for each of 120 candidates, totalling 600 fits\n",
      "Best parameter set: {'clf__n_estimators': 50, 'vect__ngram_range': (1, 1), 'vect__tokenizer': <function tokenizer_porter at 0x000002889852A700>, 'vect__use_idf': True} \n",
      "CV recall: 0.412\n",
      "Pipeline(steps=[('vect',\n",
      "                 TfidfVectorizer(tokenizer=<function tokenizer_porter at 0x000002889852A700>)),\n",
      "                ('clf',\n",
      "                 RandomForestClassifier(class_weight='balanced',\n",
      "                                        n_estimators=50, oob_score=True))])\n"
     ]
    }
   ],
   "source": [
    "from sklearn.ensemble import RandomForestClassifier\n",
    "\n",
    "\n",
    "rf1_tfidf = Pipeline([('vect', tfidf),\n",
    "                     ('clf', RandomForestClassifier(oob_score = True,class_weight = \"balanced\"))])\n",
    "\n",
    "rf1_param_grid = {\n",
    "    'vect__ngram_range': [(1, 1),(1,2),(1,3)],\n",
    "    'vect__tokenizer': [tokenizer,tokenizer_porter],\n",
    "    'vect__use_idf':[True,False],\n",
    "    'clf__n_estimators': range(40,131,10)\n",
    "}\n",
    "\n",
    "gs_rf1_tfidf = GridSearchCV(rf1_tfidf, rf1_param_grid,\n",
    "                            scoring='recall_macro',\n",
    "                            cv=5,\n",
    "                            verbose=2,\n",
    "                            n_jobs=-1)\n",
    "\n",
    "gs_rf1_tfidf.fit(X_train, y_train)\n",
    "\n",
    "print('Best parameter set: %s ' % gs_rf1_tfidf.best_params_)\n",
    "print('CV recall: %.3f' % gs_rf1_tfidf.best_score_)\n",
    "clf5 = gs_rf1_tfidf.best_estimator_\n",
    "print (clf5)"
   ]
  },
  {
   "cell_type": "code",
   "execution_count": 83,
   "id": "f891a575",
   "metadata": {},
   "outputs": [
    {
     "name": "stdout",
     "output_type": "stream",
     "text": [
      "              precision    recall  f1-score   support\n",
      "\n",
      "         bad       0.74      0.16      0.26        88\n",
      "        good       0.80      0.99      0.89      1523\n",
      "     neutral       0.72      0.16      0.26       364\n",
      "\n",
      "    accuracy                           0.80      1975\n",
      "   macro avg       0.76      0.44      0.47      1975\n",
      "weighted avg       0.79      0.80      0.74      1975\n",
      "\n"
     ]
    }
   ],
   "source": [
    "print(classification_report(y_true=y_test, y_pred=clf5.predict(X_test)))"
   ]
  },
  {
   "cell_type": "code",
   "execution_count": 75,
   "id": "653cda2c",
   "metadata": {},
   "outputs": [
    {
     "name": "stdout",
     "output_type": "stream",
     "text": [
      "Fitting 5 folds for each of 12 candidates, totalling 60 fits\n",
      "Best parameter set: {'vect__ngram_range': (1, 1), 'vect__tokenizer': <function tokenizer_porter at 0x000002889852A700>, 'vect__use_idf': True} \n",
      "CV recall: 0.354\n",
      "Pipeline(steps=[('vect',\n",
      "                 TfidfVectorizer(tokenizer=<function tokenizer_porter at 0x000002889852A700>)),\n",
      "                ('clf', MultinomialNB())])\n"
     ]
    }
   ],
   "source": [
    "from sklearn.naive_bayes import MultinomialNB\n",
    "\n",
    "nb_tfidf = Pipeline([('vect', tfidf),\n",
    "                     ('clf',MultinomialNB())])\n",
    "\n",
    "nb_param_grid = {\n",
    "    'vect__ngram_range': [(1, 1),(1,2),(1,3)],\n",
    "    'vect__tokenizer': [tokenizer,tokenizer_porter],\n",
    "    'vect__use_idf':[True,False]\n",
    "}\n",
    "\n",
    "gs_nb_tfidf = GridSearchCV(nb_tfidf, nb_param_grid,\n",
    "                            scoring='recall_macro',\n",
    "                            cv=5,\n",
    "                            verbose=2,\n",
    "                            n_jobs=-1)\n",
    "\n",
    "gs_nb_tfidf.fit(X_train, y_train)\n",
    "\n",
    "print('Best parameter set: %s ' % gs_nb_tfidf.best_params_)\n",
    "print('CV recall: %.3f' % gs_nb_tfidf.best_score_)\n",
    "clf6 = gs_nb_tfidf.best_estimator_\n",
    "print (clf6)"
   ]
  },
  {
   "cell_type": "code",
   "execution_count": 76,
   "id": "410b486e",
   "metadata": {},
   "outputs": [
    {
     "name": "stdout",
     "output_type": "stream",
     "text": [
      "              precision    recall  f1-score   support\n",
      "\n",
      "         bad       1.00      0.03      0.07        88\n",
      "        good       0.79      1.00      0.88      1523\n",
      "     neutral       0.67      0.07      0.13       364\n",
      "\n",
      "    accuracy                           0.78      1975\n",
      "   macro avg       0.82      0.37      0.36      1975\n",
      "weighted avg       0.77      0.78      0.70      1975\n",
      "\n"
     ]
    }
   ],
   "source": [
    "print(classification_report(y_true=y_test, y_pred=clf6.predict(X_test)))"
   ]
  },
  {
   "cell_type": "code",
   "execution_count": null,
   "id": "b350e635",
   "metadata": {},
   "outputs": [],
   "source": [
    "from sklearn.metrics import classification_report\n",
    "report = classification_report(y_true=y_test, y_pred=clf.predict(X_test),output_dict=True)\n",
    "print(report)\n",
    "reportdf = pd.DataFrame(report).transpose()\n",
    "reportdf.to_csv('E:/UVA/Thesis/cousera data/lr.csv')"
   ]
  },
  {
   "cell_type": "code",
   "execution_count": null,
   "id": "a4efe611",
   "metadata": {},
   "outputs": [],
   "source": []
  },
  {
   "cell_type": "code",
   "execution_count": null,
   "id": "b7b9cbf2",
   "metadata": {},
   "outputs": [],
   "source": [
    "print(classification_report(y_true=y_test, y_pred=clf.predict(X_test)))"
   ]
  },
  {
   "cell_type": "code",
   "execution_count": null,
   "id": "e6dede15",
   "metadata": {},
   "outputs": [],
   "source": [
    "from sklearn.metrics import confusion_matrix, ConfusionMatrixDisplay\n",
    "\n",
    "predictions = clf.predict(X_test)\n",
    "cm = confusion_matrix(y_test, predictions, labels=clf.classes_)\n",
    "disp = ConfusionMatrixDisplay(confusion_matrix=cm,\n",
    "                               display_labels=clf.classe++\n",
    "disp.plot()"
   ]
  },
  {
   "cell_type": "code",
   "execution_count": null,
   "id": "f3b29752",
   "metadata": {},
   "outputs": [],
   "source": [
    "report1 = classification_report(y_true=y_test, y_pred=clf1.predict(X_test),output_dict=True)\n",
    "print(report1)\n",
    "reportdf1 = pd.DataFrame(report1).transpose()\n",
    "reportdf1.to_csv('E:/UVA/Thesis/cousera data/svmlinear.csv')"
   ]
  },
  {
   "cell_type": "code",
   "execution_count": null,
   "id": "b4cf2adc",
   "metadata": {},
   "outputs": [],
   "source": [
    "report2 = classification_report(y_true=y_test, y_pred=clf2.predict(X_test),output_dict=True)\n",
    "print(report2)\n",
    "reportdf2 = pd.DataFrame(report2).transpose()\n",
    "reportdf2.to_csv('E:/UVA/Thesis/cousera data/svmrbf.csv')"
   ]
  },
  {
   "cell_type": "code",
   "execution_count": null,
   "id": "65aa675c",
   "metadata": {},
   "outputs": [],
   "source": [
    "report3 = classification_report(y_true=y_test, y_pred=clf3.predict(X_test),output_dict=True)\n",
    "print(report3)\n",
    "reportdf3 = pd.DataFrame(report3).transpose()\n",
    "reportdf3.to_csv('E:/UVA/Thesis/cousera data/dt.csv')"
   ]
  },
  {
   "cell_type": "code",
   "execution_count": null,
   "id": "ffd2b273",
   "metadata": {},
   "outputs": [],
   "source": [
    "report4 = classification_report(y_true=y_test, y_pred=clf4.predict(X_test),output_dict=True)\n",
    "print(report4)\n",
    "reportdf4 = pd.DataFrame(report4).transpose()\n",
    "reportdf4.to_csv('E:/UVA/Thesis/cousera data/knn.csv')"
   ]
  },
  {
   "cell_type": "code",
   "execution_count": null,
   "id": "720c3712",
   "metadata": {},
   "outputs": [],
   "source": [
    "report5 = classification_report(y_true=y_test, y_pred=clf5.predict(X_test),output_dict=True)\n",
    "print(report5)\n",
    "reportdf5 = pd.DataFrame(report5).transpose()\n",
    "reportdf5.to_csv('E:/UVA/Thesis/cousera data/rf.csv')"
   ]
  },
  {
   "cell_type": "code",
   "execution_count": null,
   "id": "13924338",
   "metadata": {},
   "outputs": [],
   "source": [
    "report6 = classification_report(y_true=y_test, y_pred=clf6.predict(X_test),output_dict=True)\n",
    "print(report6)\n",
    "reportdf6 = pd.DataFrame(report6).transpose()\n",
    "reportdf6.to_csv('E:/UVA/Thesis/cousera data/nb.csv')"
   ]
  },
  {
   "cell_type": "code",
   "execution_count": 56,
   "id": "bb8c219c",
   "metadata": {},
   "outputs": [],
   "source": []
  },
  {
   "cell_type": "code",
   "execution_count": 59,
   "id": "e040823c",
   "metadata": {},
   "outputs": [],
   "source": []
  },
  {
   "cell_type": "code",
   "execution_count": null,
   "id": "51107468",
   "metadata": {},
   "outputs": [],
   "source": []
  },
  {
   "cell_type": "code",
   "execution_count": null,
   "id": "caf211f7",
   "metadata": {},
   "outputs": [],
   "source": []
  },
  {
   "cell_type": "code",
   "execution_count": null,
   "id": "ee7b9b6a",
   "metadata": {},
   "outputs": [],
   "source": []
  },
  {
   "cell_type": "code",
   "execution_count": null,
   "id": "4e4ba11b",
   "metadata": {},
   "outputs": [],
   "source": []
  },
  {
   "cell_type": "code",
   "execution_count": null,
   "id": "c995798a",
   "metadata": {},
   "outputs": [],
   "source": [
    "\n"
   ]
  },
  {
   "cell_type": "code",
   "execution_count": null,
   "id": "293a0737",
   "metadata": {},
   "outputs": [],
   "source": []
  },
  {
   "cell_type": "code",
   "execution_count": null,
   "id": "45297cfb",
   "metadata": {},
   "outputs": [],
   "source": []
  },
  {
   "cell_type": "code",
   "execution_count": null,
   "id": "6379f86f",
   "metadata": {
    "scrolled": true
   },
   "outputs": [],
   "source": []
  },
  {
   "cell_type": "code",
   "execution_count": null,
   "id": "3d3c13ea",
   "metadata": {},
   "outputs": [],
   "source": []
  },
  {
   "cell_type": "code",
   "execution_count": null,
   "id": "89574a40",
   "metadata": {},
   "outputs": [],
   "source": []
  },
  {
   "cell_type": "code",
   "execution_count": null,
   "id": "e8e07715",
   "metadata": {},
   "outputs": [],
   "source": []
  },
  {
   "cell_type": "code",
   "execution_count": null,
   "id": "ec674efb",
   "metadata": {},
   "outputs": [],
   "source": [
    "\n"
   ]
  },
  {
   "cell_type": "code",
   "execution_count": null,
   "id": "3436a5e9",
   "metadata": {},
   "outputs": [],
   "source": []
  }
 ],
 "metadata": {
  "kernelspec": {
   "display_name": "Python 3 (ipykernel)",
   "language": "python",
   "name": "python3"
  },
  "language_info": {
   "codemirror_mode": {
    "name": "ipython",
    "version": 3
   },
   "file_extension": ".py",
   "mimetype": "text/x-python",
   "name": "python",
   "nbconvert_exporter": "python",
   "pygments_lexer": "ipython3",
   "version": "3.9.7"
  }
 },
 "nbformat": 4,
 "nbformat_minor": 5
}
